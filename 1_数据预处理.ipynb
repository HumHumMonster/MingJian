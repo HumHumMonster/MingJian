{
 "cells": [
  {
   "cell_type": "code",
   "execution_count": 27,
   "metadata": {},
   "outputs": [],
   "source": [
    "import pandas as pd\n",
    "import numpy as np"
   ]
  },
  {
   "cell_type": "code",
   "execution_count": 28,
   "metadata": {},
   "outputs": [],
   "source": [
    "df = {}\n",
    "df_train = {}\n",
    "df_test = {}"
   ]
  },
  {
   "cell_type": "code",
   "execution_count": 29,
   "metadata": {},
   "outputs": [
    {
     "name": "stderr",
     "output_type": "stream",
     "text": [
      "C:\\Users\\14714\\AppData\\Local\\Temp\\ipykernel_128720\\4077715049.py:2: DtypeWarning: Columns (6,8) have mixed types. Specify dtype option on import or set low_memory=False.\n",
      "  df_test['雨量水位']  = pd.read_csv(\"./A榜/test/A-雨量水位（2020-2021）.csv\")[['NAME' ,'SENID' ,'TIME' ,'V' ,'AVGV' ,'MAXV' ,'MAXT' ,'MINV' ,'MINT']]\n"
     ]
    }
   ],
   "source": [
    "df_train['雨量水位'] = pd.read_csv(\"./A榜/train/A-雨量水位（2014-2019）.csv\")[['NAME' ,'SENID' ,'TIME' ,'V' ,'AVGV' ,'MAXV' ,'MAXT' ,'MINV' ,'MINT']]\n",
    "df_test['雨量水位']  = pd.read_csv(\"./A榜/test/A-雨量水位（2020-2021）.csv\")[['NAME' ,'SENID' ,'TIME' ,'V' ,'AVGV' ,'MAXV' ,'MAXT' ,'MINV' ,'MINT']]"
   ]
  },
  {
   "cell_type": "code",
   "execution_count": 30,
   "metadata": {},
   "outputs": [],
   "source": [
    "df_train['雨量水位'].columns = ['名称' ,'站点id' ,'时间' ,'值' ,'平均值' ,'最大值' ,'最大值发生时间' ,'最小值' ,'最小值发生时间']\n",
    "df_test['雨量水位'].columns = ['名称' ,'站点id' ,'时间' ,'值' ,'平均值' ,'最大值' ,'最大值发生时间' ,'最小值' ,'最小值发生时间']"
   ]
  },
  {
   "cell_type": "code",
   "execution_count": 31,
   "metadata": {},
   "outputs": [],
   "source": [
    "# 删除带-10000的\n",
    "# df_train['雨量水位'] = df_train['雨量水位'].replace(-10000 , np.nan).dropna()\n",
    "# df_test['雨量水位'] = df_test['雨量水位'].replace(-10000 , np.nan).dropna()"
   ]
  },
  {
   "cell_type": "code",
   "execution_count": 32,
   "metadata": {},
   "outputs": [],
   "source": [
    "df_train['雨量水位'][\"最大值发生时间\"] = pd.to_datetime(df_train['雨量水位'][\"最大值发生时间\"])\n",
    "df_test['雨量水位'][\"最大值发生时间\"] = pd.to_datetime(df_test['雨量水位'][\"最大值发生时间\"])\n",
    "df_train['雨量水位'][\"最小值发生时间\"] = pd.to_datetime(df_train['雨量水位'][\"最小值发生时间\"])\n",
    "df_test['雨量水位'][\"最小值发生时间\"] = pd.to_datetime(df_test['雨量水位'][\"最小值发生时间\"])"
   ]
  },
  {
   "cell_type": "code",
   "execution_count": null,
   "metadata": {},
   "outputs": [],
   "source": []
  },
  {
   "cell_type": "code",
   "execution_count": 33,
   "metadata": {},
   "outputs": [],
   "source": [
    "df_train['雨量水位'][\"时间\"] = pd.to_datetime(df_train['雨量水位'][\"时间\"])\n",
    "df_test['雨量水位'][\"时间\"] = pd.to_datetime(df_test['雨量水位'][\"时间\"])"
   ]
  },
  {
   "cell_type": "code",
   "execution_count": null,
   "metadata": {},
   "outputs": [],
   "source": []
  },
  {
   "cell_type": "code",
   "execution_count": 34,
   "metadata": {},
   "outputs": [],
   "source": [
    "df_train['入库流量'] = pd.read_csv(\"./A榜/train/A-入库流量（2014-2019）.csv\")[['TIME' ,'V']]\n",
    "df_train['入库流量'].columns = ['时间' ,'FLAG']"
   ]
  },
  {
   "cell_type": "code",
   "execution_count": 35,
   "metadata": {},
   "outputs": [],
   "source": [
    "df_train['入库流量'][\"时间\"] = pd.to_datetime(df_train['入库流量'][\"时间\"])"
   ]
  },
  {
   "cell_type": "markdown",
   "metadata": {},
   "source": [
    "保存"
   ]
  },
  {
   "cell_type": "code",
   "execution_count": 36,
   "metadata": {},
   "outputs": [],
   "source": [
    "import pickle\n",
    "train_dir = \"./data/1_预处理/train/\"\n",
    "test_dir = \"./data/1_预处理/A/\"\n"
   ]
  },
  {
   "cell_type": "code",
   "execution_count": 37,
   "metadata": {},
   "outputs": [],
   "source": [
    "with open(train_dir + '雨量水位' + '.pkl' , \"wb\") as file:\n",
    "    pickle.dump(df_train['雨量水位'] , file)\n",
    "\n",
    "with open(test_dir + '雨量水位' + '.pkl' , \"wb\") as file:\n",
    "    pickle.dump(df_test['雨量水位'] , file)"
   ]
  },
  {
   "cell_type": "code",
   "execution_count": 38,
   "metadata": {},
   "outputs": [],
   "source": [
    "with open(train_dir + '入库流量' + '.pkl' , \"wb\") as file:\n",
    "    pickle.dump(df_train['入库流量'] , file)"
   ]
  },
  {
   "cell_type": "code",
   "execution_count": null,
   "metadata": {},
   "outputs": [],
   "source": []
  }
 ],
 "metadata": {
  "kernelspec": {
   "display_name": "base",
   "language": "python",
   "name": "python3"
  },
  "language_info": {
   "codemirror_mode": {
    "name": "ipython",
    "version": 3
   },
   "file_extension": ".py",
   "mimetype": "text/x-python",
   "name": "python",
   "nbconvert_exporter": "python",
   "pygments_lexer": "ipython3",
   "version": "3.9.13"
  }
 },
 "nbformat": 4,
 "nbformat_minor": 2
}
