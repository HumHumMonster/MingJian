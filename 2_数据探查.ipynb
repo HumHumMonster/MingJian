{
 "cells": [
  {
   "cell_type": "code",
   "execution_count": 9,
   "metadata": {},
   "outputs": [],
   "source": [
    "import numpy as np\n",
    "import pandas as pd\n",
    "import pickle\n",
    "pd.set_option('display.max_info_columns', 500)\n",
    "pd.set_option('display.max_columns', 1000)\n",
    "pd.set_option('display.max_row', 300)\n",
    "pd.set_option('display.float_format', lambda x: ' %.5f' % x)"
   ]
  },
  {
   "cell_type": "code",
   "execution_count": 10,
   "metadata": {},
   "outputs": [],
   "source": [
    "train_dir = \"./data/1_预处理/train/\"\n",
    "test_dir = \"./data/1_预处理/A/\"\n",
    "\n",
    "特征_train_dir = \"./data/2_特征/train/\"\n",
    "特征_test_dir = \"./data/2_特征/A/\"\n",
    "df_train = {}\n",
    "df_test = {}\n",
    "with open(train_dir + '雨量水位' + \".pkl\" , \"rb\" ) as file :\n",
    "    df_train['雨量水位'] = pickle.load(file)\n",
    "with open(test_dir + '雨量水位' + \".pkl\" , \"rb\" ) as file :\n",
    "    df_test['雨量水位'] = pickle.load(file)\n",
    "with open(train_dir + '入库流量' + \".pkl\" , \"rb\" ) as file :\n",
    "    df_train['入库流量'] = pickle.load(file)"
   ]
  },
  {
   "cell_type": "code",
   "execution_count": 17,
   "metadata": {},
   "outputs": [
    {
     "data": {
      "text/plain": [
       "['街面坝上(左岸)雨量', '水口坝上(卫星)雨量', '香园里小区雨量']"
      ]
     },
     "execution_count": 17,
     "metadata": {},
     "output_type": "execute_result"
    }
   ],
   "source": [
    "[i for i in df_train['雨量水位']['名称'].unique() if i not in df_test['雨量水位']['名称'].unique()]"
   ]
  },
  {
   "cell_type": "code",
   "execution_count": 18,
   "metadata": {},
   "outputs": [
    {
     "data": {
      "text/plain": [
       "['沙溪口坝上雨量',\n",
       " '水茜雨量',\n",
       " '湖村雨量',\n",
       " '禾口雨量',\n",
       " '宁化雨量',\n",
       " '横锁雨量',\n",
       " '黄家排雨量',\n",
       " '蒿溪雨量',\n",
       " '童坊雨量',\n",
       " '馆前雨量',\n",
       " '曹坊雨量',\n",
       " '河排雨量',\n",
       " '连城雨量',\n",
       " '北团雨量',\n",
       " '姚坊雨量',\n",
       " '沙芜塘雨量',\n",
       " '罗坊雨量',\n",
       " '芹口雨量']"
      ]
     },
     "execution_count": 18,
     "metadata": {},
     "output_type": "execute_result"
    }
   ],
   "source": [
    "[i for i in df_test['雨量水位']['名称'].unique() if i not in df_train['雨量水位']['名称'].unique()]"
   ]
  },
  {
   "cell_type": "code",
   "execution_count": 19,
   "metadata": {},
   "outputs": [
    {
     "data": {
      "text/plain": [
       "['下洋坂雨量',\n",
       " '福记雨量',\n",
       " '西城镇雨量',\n",
       " '梅仙镇雨量',\n",
       " '民主村雨量',\n",
       " '柯坑村雨量',\n",
       " '东上村雨量',\n",
       " '台溪乡雨量',\n",
       " '联合镇雨量',\n",
       " '新阳镇雨量',\n",
       " '双鲤村雨量',\n",
       " '肖坂村雨量',\n",
       " '芦坪雨量',\n",
       " '后洋雨量',\n",
       " '绿柳村雨量',\n",
       " '京口村雨量',\n",
       " '厚德村雨量',\n",
       " '小华村雨量',\n",
       " '梓溪村雨量',\n",
       " '大儒村雨量',\n",
       " '汤泉村雨量',\n",
       " '龙口村雨量',\n",
       " '梅山镇雨量',\n",
       " '广平镇雨量',\n",
       " '西燕村雨量',\n",
       " '横坑村雨量',\n",
       " '下路岭雨量',\n",
       " '槐南镇雨量',\n",
       " '大华镇雨量',\n",
       " '年坂山雨量',\n",
       " '文峰村雨量',\n",
       " '测试雨量',\n",
       " '街面面雨量',\n",
       " '永坑村雨量',\n",
       " '水东坝上雨量',\n",
       " '水东面雨量',\n",
       " '水东区间流域面雨量',\n",
       " '下保村雨量',\n",
       " '雍口面雨量',\n",
       " '雍口实时面雨量',\n",
       " '水口坝上雨量',\n",
       " '水口坝上(左岸)雨量',\n",
       " '莘口镇雨量',\n",
       " '新桥头雨量',\n",
       " '大横镇曲楼甲新农村雨量',\n",
       " '石塔山雨量',\n",
       " '车洋坂雨量',\n",
       " '横洋雨量',\n",
       " '外洋村雨量',\n",
       " '水口面雨量',\n",
       " '沙溪流域面雨量',\n",
       " '富屯溪流域面雨量',\n",
       " '建溪流域面雨量',\n",
       " '库区流域面雨量',\n",
       " '半山村雨量',\n",
       " '大口窑雨量',\n",
       " '山下乡雨量',\n",
       " '樟树村雨量',\n",
       " '里洋村雨量',\n",
       " '均中村雨量',\n",
       " '杉坜雨量',\n",
       " '桐木村雨量',\n",
       " '水南村雨量',\n",
       " '桥南村雨量',\n",
       " '漈村雨量',\n",
       " '西表村雨量',\n",
       " '金岭村雨量',\n",
       " '西津村雨量',\n",
       " '东游镇雨量',\n",
       " '福源小区雨量',\n",
       " '新源村雨量',\n",
       " '下洋村雨量',\n",
       " '后村雨量',\n",
       " '白源雨量',\n",
       " '白叶山雨量',\n",
       " '下墩村雨量',\n",
       " '岭坪雨量',\n",
       " '沙坝下雨量',\n",
       " '天心岛花园雨量',\n",
       " '梅园小区雨量',\n",
       " '胡坊镇雨量',\n",
       " '雪峰新村雨量',\n",
       " '夏阳乡雨量',\n",
       " '夏茂镇雨量',\n",
       " '官昌村雨量',\n",
       " '景山新村雨量',\n",
       " '洽湖村雨量',\n",
       " '碗厂村雨量',\n",
       " '梅溪村雨量',\n",
       " '李坊村雨量',\n",
       " '梅树湾新村雨量',\n",
       " '小西门头社区雨量',\n",
       " '茶窠雨量',\n",
       " '埔上镇雨量',\n",
       " '桥下村雨量',\n",
       " '观华园雨量',\n",
       " '万安镇雨量',\n",
       " '九丘雨量',\n",
       " '里坪厂雨量',\n",
       " '安砂镇雨量',\n",
       " '端溪村雨量',\n",
       " '池潭坝上雨量',\n",
       " '山坊雨量',\n",
       " '林后岗雨量']"
      ]
     },
     "execution_count": 19,
     "metadata": {},
     "output_type": "execute_result"
    }
   ],
   "source": [
    "[i for i in df_train['雨量水位']['名称'].unique() if i in df_test['雨量水位']['名称'].unique()]"
   ]
  }
 ],
 "metadata": {
  "kernelspec": {
   "display_name": "Python 3",
   "language": "python",
   "name": "python3"
  },
  "language_info": {
   "codemirror_mode": {
    "name": "ipython",
    "version": 3
   },
   "file_extension": ".py",
   "mimetype": "text/x-python",
   "name": "python",
   "nbconvert_exporter": "python",
   "pygments_lexer": "ipython3",
   "version": "3.9.10"
  }
 },
 "nbformat": 4,
 "nbformat_minor": 2
}
